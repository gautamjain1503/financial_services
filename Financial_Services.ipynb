{
 "cells": [
  {
   "cell_type": "markdown",
   "id": "fc18bdce",
   "metadata": {},
   "source": [
    "# Financial services\n",
    "\n",
    "## This project is designed to study the organisation type of finance company"
   ]
  },
  {
   "cell_type": "code",
   "execution_count": 1,
   "id": "72bd5da9",
   "metadata": {},
   "outputs": [],
   "source": [
    "%matplotlib inline\n",
    "import pandas as pd\n",
    "import numpy as np\n",
    "import matplotlib.pyplot as plt\n",
    "import warnings\n",
    "warnings.filterwarnings('ignore')"
   ]
  },
  {
   "cell_type": "markdown",
   "id": "b1db15a4",
   "metadata": {},
   "source": [
    "## This data set is sourced by kaggle\n",
    "Financil services dataset :-https://www.kaggle.com/datasets/anuragbantu/finance-companies-in-india"
   ]
  },
  {
   "cell_type": "code",
   "execution_count": 2,
   "id": "9629f559",
   "metadata": {},
   "outputs": [],
   "source": [
    "financial_services=pd.read_csv(\"Financial_Services.csv\")"
   ]
  },
  {
   "cell_type": "markdown",
   "id": "a4f1e5b4",
   "metadata": {},
   "source": [
    "# Taking a brief overview of our data"
   ]
  },
  {
   "cell_type": "code",
   "execution_count": 3,
   "id": "2973695b",
   "metadata": {},
   "outputs": [
    {
     "data": {
      "text/html": [
       "<div>\n",
       "<style scoped>\n",
       "    .dataframe tbody tr th:only-of-type {\n",
       "        vertical-align: middle;\n",
       "    }\n",
       "\n",
       "    .dataframe tbody tr th {\n",
       "        vertical-align: top;\n",
       "    }\n",
       "\n",
       "    .dataframe thead th {\n",
       "        text-align: right;\n",
       "    }\n",
       "</style>\n",
       "<table border=\"1\" class=\"dataframe\">\n",
       "  <thead>\n",
       "    <tr style=\"text-align: right;\">\n",
       "      <th></th>\n",
       "      <th>Unnamed: 0</th>\n",
       "      <th>name</th>\n",
       "      <th>rating</th>\n",
       "      <th>reviews</th>\n",
       "      <th>company_type</th>\n",
       "      <th>Head_Quarters</th>\n",
       "      <th>Company_Age</th>\n",
       "      <th>No_of_Employee</th>\n",
       "    </tr>\n",
       "  </thead>\n",
       "  <tbody>\n",
       "    <tr>\n",
       "      <th>0</th>\n",
       "      <td>0</td>\n",
       "      <td>ICICI Bank</td>\n",
       "      <td>4.0</td>\n",
       "      <td>(33.6k Reviews)</td>\n",
       "      <td>Public</td>\n",
       "      <td>Mumbai,Maharashtra + 1020 more</td>\n",
       "      <td>28 years old</td>\n",
       "      <td>1 Lakh+ Employees (India)</td>\n",
       "    </tr>\n",
       "    <tr>\n",
       "      <th>1</th>\n",
       "      <td>1</td>\n",
       "      <td>HDFC Bank</td>\n",
       "      <td>4.0</td>\n",
       "      <td>(37.9k Reviews)</td>\n",
       "      <td>Public</td>\n",
       "      <td>Mumbai,Maharashtra + 1168 more</td>\n",
       "      <td>28 years old</td>\n",
       "      <td>1 Lakh+ Employees (India)</td>\n",
       "    </tr>\n",
       "    <tr>\n",
       "      <th>2</th>\n",
       "      <td>2</td>\n",
       "      <td>HCL Technologies</td>\n",
       "      <td>3.9</td>\n",
       "      <td>(17.4k Reviews)</td>\n",
       "      <td>Public</td>\n",
       "      <td>Noida,Uttar Pradesh + 138 more</td>\n",
       "      <td>31 years old</td>\n",
       "      <td>1 Lakh+ Employees (India)</td>\n",
       "    </tr>\n",
       "    <tr>\n",
       "      <th>3</th>\n",
       "      <td>3</td>\n",
       "      <td>Axis Bank</td>\n",
       "      <td>3.9</td>\n",
       "      <td>(18.3k Reviews)</td>\n",
       "      <td>Public</td>\n",
       "      <td>Mumbai,Maharashtra + 1041 more</td>\n",
       "      <td>29 years old</td>\n",
       "      <td>1 Lakh+ Employees (India)</td>\n",
       "    </tr>\n",
       "    <tr>\n",
       "      <th>4</th>\n",
       "      <td>4</td>\n",
       "      <td>IBM</td>\n",
       "      <td>4.2</td>\n",
       "      <td>(20.7k Reviews)</td>\n",
       "      <td>Public</td>\n",
       "      <td>Armonk,New York + 115 more</td>\n",
       "      <td>111 years old</td>\n",
       "      <td>1 Lakh+ Employees (India)</td>\n",
       "    </tr>\n",
       "  </tbody>\n",
       "</table>\n",
       "</div>"
      ],
      "text/plain": [
       "   Unnamed: 0              name  rating          reviews company_type  \\\n",
       "0           0        ICICI Bank     4.0  (33.6k Reviews)       Public   \n",
       "1           1         HDFC Bank     4.0  (37.9k Reviews)       Public   \n",
       "2           2  HCL Technologies     3.9  (17.4k Reviews)       Public   \n",
       "3           3         Axis Bank     3.9  (18.3k Reviews)       Public   \n",
       "4           4               IBM     4.2  (20.7k Reviews)       Public   \n",
       "\n",
       "                    Head_Quarters    Company_Age             No_of_Employee  \n",
       "0  Mumbai,Maharashtra + 1020 more   28 years old  1 Lakh+ Employees (India)  \n",
       "1  Mumbai,Maharashtra + 1168 more   28 years old  1 Lakh+ Employees (India)  \n",
       "2  Noida,Uttar Pradesh + 138 more   31 years old  1 Lakh+ Employees (India)  \n",
       "3  Mumbai,Maharashtra + 1041 more   29 years old  1 Lakh+ Employees (India)  \n",
       "4      Armonk,New York + 115 more  111 years old  1 Lakh+ Employees (India)  "
      ]
     },
     "execution_count": 3,
     "metadata": {},
     "output_type": "execute_result"
    }
   ],
   "source": [
    "financial_services.head()"
   ]
  },
  {
   "cell_type": "markdown",
   "id": "bf85b797",
   "metadata": {},
   "source": [
    "## Here we remove Unnamed: 0 column as it does not any meaningful information except index, which is not required in any case"
   ]
  },
  {
   "cell_type": "code",
   "execution_count": 4,
   "id": "e03d1651",
   "metadata": {},
   "outputs": [],
   "source": [
    "financial_services=financial_services.drop(\"Unnamed: 0\",axis=1);"
   ]
  },
  {
   "cell_type": "code",
   "execution_count": 5,
   "id": "48eb0876",
   "metadata": {},
   "outputs": [
    {
     "data": {
      "text/plain": [
       "name               object\n",
       "rating            float64\n",
       "reviews            object\n",
       "company_type       object\n",
       "Head_Quarters      object\n",
       "Company_Age        object\n",
       "No_of_Employee     object\n",
       "dtype: object"
      ]
     },
     "execution_count": 5,
     "metadata": {},
     "output_type": "execute_result"
    }
   ],
   "source": [
    "financial_services.dtypes"
   ]
  },
  {
   "cell_type": "code",
   "execution_count": 6,
   "id": "991244a2",
   "metadata": {},
   "outputs": [
    {
     "data": {
      "text/plain": [
       "(8970, 7)"
      ]
     },
     "execution_count": 6,
     "metadata": {},
     "output_type": "execute_result"
    }
   ],
   "source": [
    "financial_services.shape"
   ]
  },
  {
   "cell_type": "code",
   "execution_count": 7,
   "id": "0e0ffac5",
   "metadata": {},
   "outputs": [
    {
     "data": {
      "text/plain": [
       "name                 0\n",
       "rating              20\n",
       "reviews              0\n",
       "company_type       938\n",
       "Head_Quarters     2926\n",
       "Company_Age       4878\n",
       "No_of_Employee    6638\n",
       "dtype: int64"
      ]
     },
     "execution_count": 7,
     "metadata": {},
     "output_type": "execute_result"
    }
   ],
   "source": [
    "financial_services.isna().sum()"
   ]
  },
  {
   "cell_type": "markdown",
   "id": "9308ee6c",
   "metadata": {},
   "source": [
    "# Making a missing columns to get the future references"
   ]
  },
  {
   "cell_type": "code",
   "execution_count": 8,
   "id": "a9d65438",
   "metadata": {},
   "outputs": [],
   "source": [
    "for label, content in financial_services.items():\n",
    "    if pd.isnull(content).sum():\n",
    "        financial_services[label+\"_is_missing\"] = pd.isnull(content)"
   ]
  },
  {
   "cell_type": "markdown",
   "id": "3e15fcca",
   "metadata": {},
   "source": [
    "# Now we get the information about the number of missing values"
   ]
  },
  {
   "cell_type": "code",
   "execution_count": 9,
   "id": "d6ad6d93",
   "metadata": {},
   "outputs": [
    {
     "data": {
      "text/plain": [
       "name                            0\n",
       "rating                         20\n",
       "reviews                         0\n",
       "company_type                  938\n",
       "Head_Quarters                2926\n",
       "Company_Age                  4878\n",
       "No_of_Employee               6638\n",
       "rating_is_missing               0\n",
       "company_type_is_missing         0\n",
       "Head_Quarters_is_missing        0\n",
       "Company_Age_is_missing          0\n",
       "No_of_Employee_is_missing       0\n",
       "dtype: int64"
      ]
     },
     "execution_count": 9,
     "metadata": {},
     "output_type": "execute_result"
    }
   ],
   "source": [
    "financial_services.isna().sum()"
   ]
  },
  {
   "cell_type": "markdown",
   "id": "5d3fc711",
   "metadata": {},
   "source": [
    "### Here we can see only 20/8970 are missing in rating column so we can ignore the missing possiblity of it"
   ]
  },
  {
   "cell_type": "code",
   "execution_count": 10,
   "id": "87fca86c",
   "metadata": {},
   "outputs": [],
   "source": [
    "financial_services.drop(\"rating_is_missing\",axis=1);"
   ]
  },
  {
   "cell_type": "markdown",
   "id": "89b3c7b0",
   "metadata": {},
   "source": [
    "## Here we are study about the irregularity of data by checking their unique values"
   ]
  },
  {
   "cell_type": "code",
   "execution_count": 11,
   "id": "e8e46fa1",
   "metadata": {},
   "outputs": [
    {
     "data": {
      "text/plain": [
       "array(['ICICI Bank', 'HDFC Bank', 'HCL Technologies', ..., 'W4Consult',\n",
       "       'Shastra Micro Sy...', 'Catallyst Conste...'], dtype=object)"
      ]
     },
     "execution_count": 11,
     "metadata": {},
     "output_type": "execute_result"
    }
   ],
   "source": [
    "pd.unique(financial_services[\"name\"])"
   ]
  },
  {
   "cell_type": "code",
   "execution_count": 12,
   "id": "cabe9f83",
   "metadata": {},
   "outputs": [
    {
     "data": {
      "text/plain": [
       "array([4. , 3.9, 4.2, 3.8, 4.1, 4.3, 4.4, 3.7, 3.6, 3. , 3.4, 3.5, 3.1,\n",
       "       2.8, 4.5, 3.2, 3.3, 4.6, 4.9, 2.9, 4.8, 4.7, 2.5, 2.7, 2.1, 2.3,\n",
       "       1.8, 2.6, 5. , 1.6, 1.7, 2.4, 2. , 1.5, 2.2, 1.9, 1. , 1.1, 1.2,\n",
       "       1.3, 1.4, nan])"
      ]
     },
     "execution_count": 12,
     "metadata": {},
     "output_type": "execute_result"
    }
   ],
   "source": [
    "pd.unique(financial_services[\"rating\"])"
   ]
  },
  {
   "cell_type": "code",
   "execution_count": 13,
   "id": "ef159737",
   "metadata": {},
   "outputs": [
    {
     "data": {
      "text/plain": [
       "array(['(33.6k Reviews)', '(37.9k Reviews)', '(17.4k Reviews)',\n",
       "       '(18.3k Reviews)', '(20.7k Reviews)', '(12.9k Reviews)',\n",
       "       '(13.2k Reviews)', '(6.6k Reviews)', '(5.7k Reviews)',\n",
       "       '(4.9k Reviews)', '(4.5k Reviews)', '(4.4k Reviews)',\n",
       "       '(4.2k Reviews)', '(5.4k Reviews)', '(3.7k Reviews)',\n",
       "       '(3.5k Reviews)', '(3.4k Reviews)', '(3.3k Reviews)',\n",
       "       '(3.1k Reviews)', '(2.5k Reviews)', '(2.4k Reviews)',\n",
       "       '(2.3k Reviews)', '(4.7k Reviews)', '(2.2k Reviews)',\n",
       "       '(2k Reviews)', '(2.1k Reviews)', '(1.9k Reviews)',\n",
       "       '(5.5k Reviews)', '(1.7k Reviews)', '(2.9k Reviews)',\n",
       "       '(1.6k Reviews)', '(1.5k Reviews)', '(1.4k Reviews)',\n",
       "       '(15.3k Reviews)', '(1.3k Reviews)', '(1.2k Reviews)',\n",
       "       '(3.9k Reviews)', '(1.1k Reviews)', '(2.7k Reviews)',\n",
       "       '(1k Reviews)', '(996 Reviews)', '(994 Reviews)', '(978 Reviews)',\n",
       "       '(959 Reviews)', '(958 Reviews)', '(954 Reviews)', '(938 Reviews)',\n",
       "       '(925 Reviews)', '(924 Reviews)', '(915 Reviews)'], dtype=object)"
      ]
     },
     "execution_count": 13,
     "metadata": {},
     "output_type": "execute_result"
    }
   ],
   "source": [
    "pd.unique(financial_services[\"reviews\"])[0:50]"
   ]
  },
  {
   "cell_type": "code",
   "execution_count": 14,
   "id": "4144daaf",
   "metadata": {},
   "outputs": [
    {
     "data": {
      "text/plain": [
       "array(['Public', 'Private', 'JV', 'Government',\n",
       "       'Mumbai,Maharashtra + 334 more', 'Mumbai + 218 more',\n",
       "       'Mumbai,Maharashtra + 188 more', 'Mumbai + 102 more',\n",
       "       'Bangalore + 211 more', 'Gurgaon/Gurugram,Haryana + 105 more',\n",
       "       'Mumbai,Maharashtra + 110 more', 'New York City,New York + 2 more',\n",
       "       'Munich + 6 more', 'Mumbai,Maharashtra + 93 more',\n",
       "       'Hyderabad + 16 more', 'Gurgaon/Gurugram + 64 more',\n",
       "       'Mumbai + 52 more', 'Mumbai + 62 more', 'New Delhi + 84 more',\n",
       "       'London + 6 more', 'Jalandhar + 37 more', 'Melbourne + 2 more',\n",
       "       'Salem + 8 more', 'Mumbai,Maharashtra + 25 more',\n",
       "       'Mumbai,Maharashtra + 60 more', 'LLP', 'New Delhi + 52 more',\n",
       "       'Mumbai,Maharashtra + 35 more', 'Hamilton + 8 more',\n",
       "       'Stockholm + 2 more', 'Manchester,Greater Manchester + 72 more',\n",
       "       'Mumbai + 49 more', 'Atlanta + 10 more',\n",
       "       'Jalandhar,Punjab + 43 more', 'Noida + 15 more', 'Pune + 53 more',\n",
       "       'Navi Mumbai + 53 more', 'Mumbai + 47 more', 'Partnership',\n",
       "       'Lucknow + 46 more', 'Thrissur,Kerala + 51 more',\n",
       "       'Mumbai + 19 more', 'Mumbai + 7 more', 'Noida + 8 more',\n",
       "       'Mumbai + 39 more', 'Bangalore/Bengaluru,Karnataka + 24 more',\n",
       "       'New Delhi + 10 more', 'Thane,Maharashtra + 15 more',\n",
       "       'Chennai + 30 more', 'Mumbai + 25 more'], dtype=object)"
      ]
     },
     "execution_count": 14,
     "metadata": {},
     "output_type": "execute_result"
    }
   ],
   "source": [
    "pd.unique(financial_services[\"company_type\"])[0:50]"
   ]
  },
  {
   "cell_type": "code",
   "execution_count": 15,
   "id": "a7dca6dd",
   "metadata": {},
   "outputs": [
    {
     "data": {
      "text/plain": [
       "array(['Mumbai,Maharashtra + 1020 more', 'Mumbai,Maharashtra + 1168 more',\n",
       "       'Noida,Uttar Pradesh + 138 more', ..., 'Rajkot,Gujrat',\n",
       "       '71 years old', 'San Jose,California'], dtype=object)"
      ]
     },
     "execution_count": 15,
     "metadata": {},
     "output_type": "execute_result"
    }
   ],
   "source": [
    "pd.unique(financial_services[\"Head_Quarters\"])"
   ]
  },
  {
   "cell_type": "code",
   "execution_count": 16,
   "id": "af5b1453",
   "metadata": {},
   "outputs": [
    {
     "data": {
      "text/plain": [
       "array(['28 years old', '31 years old', '29 years old', '111 years old',\n",
       "       '15 years old', '19 years old', '20 years old', '4 years old',\n",
       "       '18 years old', '22 years old', '6 years old', '35 years old',\n",
       "       '21 years old', '5 years old', '27 years old', '74 years old',\n",
       "       '170 years old', '73 years old', '24 years old', '11 years old',\n",
       "       '1 Lakh+ Employees (India)', '135 years old', '44 years old',\n",
       "       '10k-50k Employees (India)', '172 years old', '152 years old',\n",
       "       '1k-5k Employees (India)', '92 years old', '53 years old',\n",
       "       '13 years old', '66 years old', '26 years old',\n",
       "       '50k-1 Lakh Employees (India)', '38 years old', '36 years old',\n",
       "       '47 years old', '230 years old', '16 years old', '65 years old',\n",
       "       '332 years old', '58 years old', '14 years old', '9 years old',\n",
       "       '17 years old', '105 years old', '210 years old', nan,\n",
       "       '114 years old', '10 years old', '34 years old'], dtype=object)"
      ]
     },
     "execution_count": 16,
     "metadata": {},
     "output_type": "execute_result"
    }
   ],
   "source": [
    "pd.unique(financial_services[\"Company_Age\"])[0:50]"
   ]
  },
  {
   "cell_type": "code",
   "execution_count": 17,
   "id": "181c2646",
   "metadata": {},
   "outputs": [
    {
     "data": {
      "text/plain": [
       "array(['1 Lakh+ Employees (India)', '50k-1 Lakh Employees (India)',\n",
       "       '10k-50k Employees (India)', '1k-5k Employees (India)', nan,\n",
       "       '5k-10k Employees (India)', '501-1k Employees (India)',\n",
       "       '201-500 Employees (India)', '51-200 Employees (India)',\n",
       "       '11-50 Employees (India)', '201-500 Employees (Global)',\n",
       "       '1-10 Employees (India)', '1k-5k Employees (Global)',\n",
       "       '5k-10k Employees (Global)', '501-1k Employees (Global)',\n",
       "       '10k-50k Employees (Global)', '51-200 Employees (Global)',\n",
       "       '11-50 Employees (Global)', '1 Lakh+ Employees (Global)',\n",
       "       '50k-1 Lakh Employees (Global)', '10k+ Employees (Global)',\n",
       "       '2-10 Employees (Global)', '1-10 Employees (Global)'], dtype=object)"
      ]
     },
     "execution_count": 17,
     "metadata": {},
     "output_type": "execute_result"
    }
   ],
   "source": [
    "pd.unique(financial_services[\"No_of_Employee\"])"
   ]
  },
  {
   "cell_type": "markdown",
   "id": "61b55a4f",
   "metadata": {},
   "source": [
    "# Defining some function to clean data\n",
    "\n",
    "### By reviewing the data we can make a conclusion that value of some attributes is shifted to left side of it columns , so here we make different function to correct the value of columns."
   ]
  },
  {
   "cell_type": "code",
   "execution_count": 18,
   "id": "3c8c1ef7",
   "metadata": {},
   "outputs": [],
   "source": [
    "def correct_the_column_company_type(df,column1,column2):\n",
    "    for i in range(0,len(df)):\n",
    "        if (not(df[column1+\"_is_missing\"][i]) and (df[column2+\"_is_missing\"][i])):\n",
    "            if (df[column1][i] not in ['Public', 'Private', 'JV', 'Government','LLP',\n",
    "                                       'Partnership','NGO/NPO', 'LLC', 'Proprietorship']):\n",
    "                df[column2][i]=df[column1][i]\n",
    "                df[column2+\"_is_missing\"][i]=False\n",
    "                df[column1][i]=np.nan\n",
    "                df[column1+\"_is_missing\"][i]=True"
   ]
  },
  {
   "cell_type": "code",
   "execution_count": 19,
   "id": "36f692bb",
   "metadata": {},
   "outputs": [],
   "source": [
    "def correct_the_column_employee(df,column1,column2):\n",
    "    for i in range(0,len(df)):\n",
    "        if (not(df[column1+\"_is_missing\"][i]) and (df[column2+\"_is_missing\"][i])):\n",
    "            if ('Employee' in df[column1][i]):\n",
    "                df[column2][i]=df[column1][i]\n",
    "                df[column2+\"_is_missing\"][i]=False\n",
    "                df[column1][i]=np.nan\n",
    "                df[column1+\"_is_missing\"][i]=True"
   ]
  },
  {
   "cell_type": "code",
   "execution_count": 20,
   "id": "52c00f7b",
   "metadata": {},
   "outputs": [],
   "source": [
    "def correct_the_column_year(df,column1,column2):\n",
    "    for i in range(0,len(df)):\n",
    "        if (not(df[column1+\"_is_missing\"][i]) and (df[column2+\"_is_missing\"][i])):\n",
    "            if ('old' in df[column1][i]):\n",
    "                df[column2][i]=df[column1][i]\n",
    "                df[column2+\"_is_missing\"][i]=False\n",
    "                df[column1][i]=np.nan\n",
    "                df[column1+\"_is_missing\"][i]=True"
   ]
  },
  {
   "cell_type": "code",
   "execution_count": 21,
   "id": "bee733d0",
   "metadata": {},
   "outputs": [],
   "source": [
    "def number_of_hq(df,column1,column2):\n",
    "    financial_services[column2] = financial_services[column1]\n",
    "    financial_services[column2] = financial_services[column2].astype(\n",
    "        'str').str.extractall('(\\d+)').unstack().fillna('').sum(axis=1).astype(int)\n",
    "    for i in range(0,len(df)):\n",
    "        if (df[column1+\"_is_missing\"][i]==True):\n",
    "            continue\n",
    "        elif (\"+\" in df[column1][i]):\n",
    "            df[column2][i]=(df[column2][i])+1\n",
    "        else:\n",
    "            df[column2][i]=1\n",
    "        \n",
    "    return None"
   ]
  },
  {
   "cell_type": "code",
   "execution_count": 22,
   "id": "d018ac7d",
   "metadata": {},
   "outputs": [],
   "source": [
    "def correct_the_column_reviews(df,column1,column2):\n",
    "    for i in range(0,len(df)):\n",
    "        if ('k'in df[column1][i] and '.' in df[column1][i]):\n",
    "            df[column2][i]=int(df[column1][i].replace(\"k Reviews)\",'').replace(\"(\",'').replace(\".\",''))*100\n",
    "        elif ('k'in df[column1][i]):\n",
    "            df[column2][i]=int(df[column1][i].replace(\"k Reviews)\",'').replace(\"(\",''))*1000\n",
    "        else:\n",
    "            df[column2][i]=int(df[column1][i].replace(\" Reviews)\",'').replace(\"(\",''))\n",
    "        \n",
    "    return None"
   ]
  },
  {
   "cell_type": "code",
   "execution_count": 23,
   "id": "1cd90d75",
   "metadata": {},
   "outputs": [],
   "source": [
    "def making_global_column(df,column1,column2):\n",
    "    for i in range(0,len(df)):\n",
    "        if (df[column1+\"_is_missing\"][i]==True):\n",
    "            df[column2][i]=np.nan\n",
    "            continue\n",
    "        elif (\"Global\" in df[column1][i]):\n",
    "            df[column1][i]=(df[column1][i].replace(\" Employees (Global)\",''))\n",
    "            df[column2][i]=True\n",
    "        elif (\"India\" in df[column1][i]):\n",
    "            df[column1][i]=(df[column1][i].replace(\" Employees (India)\",''))\n",
    "            df[column2][i]=False\n",
    "        \n",
    "    return None"
   ]
  },
  {
   "cell_type": "markdown",
   "id": "9120f3f4",
   "metadata": {},
   "source": [
    "# Here we make a new column reviews in no by reviews column"
   ]
  },
  {
   "cell_type": "code",
   "execution_count": 24,
   "id": "30668c9f",
   "metadata": {},
   "outputs": [],
   "source": [
    "financial_services[\"reviews_in_no\"]=np.nan\n",
    "correct_the_column_reviews(financial_services,\"reviews\",\"reviews_in_no\")"
   ]
  },
  {
   "cell_type": "markdown",
   "id": "5fd30342",
   "metadata": {},
   "source": [
    "# Here we calling these function to correct the data"
   ]
  },
  {
   "cell_type": "code",
   "execution_count": 25,
   "id": "e101b75b",
   "metadata": {},
   "outputs": [],
   "source": [
    "correct_the_column_employee(financial_services,\"company_type\",\"No_of_Employee\")\n",
    "correct_the_column_employee(financial_services,\"Head_Quarters\",\"No_of_Employee\")\n",
    "correct_the_column_employee(financial_services,\"Company_Age\",\"No_of_Employee\")"
   ]
  },
  {
   "cell_type": "code",
   "execution_count": 26,
   "id": "cdcab230",
   "metadata": {},
   "outputs": [],
   "source": [
    "correct_the_column_year(financial_services,\"Head_Quarters\",\"Company_Age\")\n",
    "correct_the_column_year(financial_services,\"company_type\",\"Company_Age\")"
   ]
  },
  {
   "cell_type": "code",
   "execution_count": 27,
   "id": "bb8d4745",
   "metadata": {},
   "outputs": [],
   "source": [
    "correct_the_column_company_type(financial_services,\"company_type\",\"Head_Quarters\")"
   ]
  },
  {
   "cell_type": "markdown",
   "id": "d357422a",
   "metadata": {},
   "source": [
    "# Here we make a new column no. of headquarters from headquarters"
   ]
  },
  {
   "cell_type": "code",
   "execution_count": 28,
   "id": "8341f5ea",
   "metadata": {},
   "outputs": [],
   "source": [
    "financial_services[\"number_of_headquarters\"]=np.nan\n",
    "number_of_hq(financial_services,\"Head_Quarters\",\"number_of_headquarters\")"
   ]
  },
  {
   "cell_type": "markdown",
   "id": "97f718a4",
   "metadata": {},
   "source": [
    "# Here we make a new column company age in no of years from company age"
   ]
  },
  {
   "cell_type": "code",
   "execution_count": 29,
   "id": "db979d48",
   "metadata": {},
   "outputs": [],
   "source": [
    "financial_services[\"company_age_in_years\"]=financial_services[\"Company_Age\"].astype(\n",
    "    'str').str.extractall('(\\d+)').unstack().fillna('').sum(axis=1).astype(int)"
   ]
  },
  {
   "cell_type": "markdown",
   "id": "a85e0d55",
   "metadata": {},
   "source": [
    "# Here we make a new column Global to find about company's Global presence using No of Employee column"
   ]
  },
  {
   "cell_type": "code",
   "execution_count": 30,
   "id": "80929e9f",
   "metadata": {},
   "outputs": [],
   "source": [
    "financial_services[\"Global\"]=np.nan\n",
    "financial_services[\"Global\"].astype(bool)\n",
    "making_global_column(financial_services,\"No_of_Employee\",\"Global\")"
   ]
  },
  {
   "cell_type": "markdown",
   "id": "f093de3f",
   "metadata": {},
   "source": [
    "# Now we are going to analyse the result of all the above manipulation we have done so far"
   ]
  },
  {
   "cell_type": "code",
   "execution_count": 31,
   "id": "ecfabe07",
   "metadata": {},
   "outputs": [
    {
     "data": {
      "text/plain": [
       "array(['ICICI Bank', 'HDFC Bank', 'HCL Technologies', ..., 'W4Consult',\n",
       "       'Shastra Micro Sy...', 'Catallyst Conste...'], dtype=object)"
      ]
     },
     "execution_count": 31,
     "metadata": {},
     "output_type": "execute_result"
    }
   ],
   "source": [
    "pd.unique(financial_services[\"name\"])"
   ]
  },
  {
   "cell_type": "code",
   "execution_count": 32,
   "id": "155fb90b",
   "metadata": {},
   "outputs": [
    {
     "data": {
      "text/plain": [
       "array([4. , 3.9, 4.2, 3.8, 4.1, 4.3, 4.4, 3.7, 3.6, 3. , 3.4, 3.5, 3.1,\n",
       "       2.8, 4.5, 3.2, 3.3, 4.6, 4.9, 2.9, 4.8, 4.7, 2.5, 2.7, 2.1, 2.3,\n",
       "       1.8, 2.6, 5. , 1.6, 1.7, 2.4, 2. , 1.5, 2.2, 1.9, 1. , 1.1, 1.2,\n",
       "       1.3, 1.4, nan])"
      ]
     },
     "execution_count": 32,
     "metadata": {},
     "output_type": "execute_result"
    }
   ],
   "source": [
    "pd.unique(financial_services[\"rating\"])"
   ]
  },
  {
   "cell_type": "code",
   "execution_count": 33,
   "id": "d36b6b1b",
   "metadata": {},
   "outputs": [
    {
     "data": {
      "text/plain": [
       "array(['(33.6k Reviews)', '(37.9k Reviews)', '(17.4k Reviews)',\n",
       "       '(18.3k Reviews)', '(20.7k Reviews)', '(12.9k Reviews)',\n",
       "       '(13.2k Reviews)', '(6.6k Reviews)', '(5.7k Reviews)',\n",
       "       '(4.9k Reviews)', '(4.5k Reviews)', '(4.4k Reviews)',\n",
       "       '(4.2k Reviews)', '(5.4k Reviews)', '(3.7k Reviews)',\n",
       "       '(3.5k Reviews)', '(3.4k Reviews)', '(3.3k Reviews)',\n",
       "       '(3.1k Reviews)', '(2.5k Reviews)', '(2.4k Reviews)',\n",
       "       '(2.3k Reviews)', '(4.7k Reviews)', '(2.2k Reviews)',\n",
       "       '(2k Reviews)', '(2.1k Reviews)', '(1.9k Reviews)',\n",
       "       '(5.5k Reviews)', '(1.7k Reviews)', '(2.9k Reviews)',\n",
       "       '(1.6k Reviews)', '(1.5k Reviews)', '(1.4k Reviews)',\n",
       "       '(15.3k Reviews)', '(1.3k Reviews)', '(1.2k Reviews)',\n",
       "       '(3.9k Reviews)', '(1.1k Reviews)', '(2.7k Reviews)',\n",
       "       '(1k Reviews)', '(996 Reviews)', '(994 Reviews)', '(978 Reviews)',\n",
       "       '(959 Reviews)', '(958 Reviews)', '(954 Reviews)', '(938 Reviews)',\n",
       "       '(925 Reviews)', '(924 Reviews)', '(915 Reviews)'], dtype=object)"
      ]
     },
     "execution_count": 33,
     "metadata": {},
     "output_type": "execute_result"
    }
   ],
   "source": [
    "pd.unique(financial_services[\"reviews\"])[0:50]"
   ]
  },
  {
   "cell_type": "code",
   "execution_count": 34,
   "id": "7b750e80",
   "metadata": {},
   "outputs": [
    {
     "data": {
      "text/plain": [
       "array(['Public', 'Private', 'JV', 'Government', nan, 'LLP', 'Partnership',\n",
       "       'NGO/NPO', 'LLC', 'Proprietorship'], dtype=object)"
      ]
     },
     "execution_count": 34,
     "metadata": {},
     "output_type": "execute_result"
    }
   ],
   "source": [
    "pd.unique(financial_services[\"company_type\"])[0:50]"
   ]
  },
  {
   "cell_type": "code",
   "execution_count": 35,
   "id": "b432005a",
   "metadata": {},
   "outputs": [
    {
     "data": {
      "text/plain": [
       "array(['Mumbai,Maharashtra + 1020 more', 'Mumbai,Maharashtra + 1168 more',\n",
       "       'Noida,Uttar Pradesh + 138 more', ..., 'Karol Bagh',\n",
       "       'San Jose,California', 'Stockholm'], dtype=object)"
      ]
     },
     "execution_count": 35,
     "metadata": {},
     "output_type": "execute_result"
    }
   ],
   "source": [
    "pd.unique(financial_services[\"Head_Quarters\"])"
   ]
  },
  {
   "cell_type": "code",
   "execution_count": 36,
   "id": "234d6875",
   "metadata": {},
   "outputs": [
    {
     "data": {
      "text/plain": [
       "array(['28 years old', '31 years old', '29 years old', '111 years old',\n",
       "       '15 years old', '19 years old', '20 years old', '4 years old',\n",
       "       '18 years old', '22 years old', '6 years old', '35 years old',\n",
       "       '21 years old', '5 years old', '27 years old', '74 years old',\n",
       "       '170 years old', '73 years old', '24 years old', '11 years old',\n",
       "       '216 years old', '135 years old', '44 years old', nan,\n",
       "       '172 years old', '152 years old', '92 years old', '53 years old',\n",
       "       '13 years old', '66 years old', '26 years old', '165 years old',\n",
       "       '38 years old', '36 years old', '47 years old', '230 years old',\n",
       "       '16 years old', '65 years old', '332 years old', '58 years old',\n",
       "       '14 years old', '9 years old', '17 years old', '105 years old',\n",
       "       '210 years old', '114 years old', '10 years old', '34 years old',\n",
       "       '7 years old', '25 years old'], dtype=object)"
      ]
     },
     "execution_count": 36,
     "metadata": {},
     "output_type": "execute_result"
    }
   ],
   "source": [
    "pd.unique(financial_services[\"Company_Age\"])[0:50]"
   ]
  },
  {
   "cell_type": "code",
   "execution_count": 37,
   "id": "a683bfd6",
   "metadata": {},
   "outputs": [
    {
     "data": {
      "text/plain": [
       "array(['1 Lakh+', '50k-1 Lakh', '10k-50k', '1k-5k', '5k-10k', '501-1k',\n",
       "       '201-500', '51-200', '11-50', '1-10', '10k+', nan, '2-10'],\n",
       "      dtype=object)"
      ]
     },
     "execution_count": 37,
     "metadata": {},
     "output_type": "execute_result"
    }
   ],
   "source": [
    "pd.unique(financial_services[\"No_of_Employee\"])"
   ]
  },
  {
   "cell_type": "code",
   "execution_count": 38,
   "id": "b2c98186",
   "metadata": {},
   "outputs": [
    {
     "data": {
      "text/plain": [
       "array([33600., 37900., 17400., 18300., 20700., 12900., 13200.,  6600.,\n",
       "        5700.,  4900.,  4500.,  4400.,  4200.,  5400.,  3700.,  3500.,\n",
       "        3400.,  3300.,  3100.,  2500.,  2400.,  2300.,  4700.,  2200.,\n",
       "        2000.,  2100.,  1900.,  5500.,  1700.,  2900.,  1600.,  1500.,\n",
       "        1400., 15300.,  1300.,  1200.,  3900.,  1100.,  2700.,  1000.,\n",
       "         996.,   994.,   978.,   959.,   958.,   954.,   938.,   925.,\n",
       "         924.,   915.])"
      ]
     },
     "execution_count": 38,
     "metadata": {},
     "output_type": "execute_result"
    }
   ],
   "source": [
    "pd.unique(financial_services[\"reviews_in_no\"])[:50]"
   ]
  },
  {
   "cell_type": "code",
   "execution_count": 39,
   "id": "d2a0fa89",
   "metadata": {},
   "outputs": [
    {
     "data": {
      "text/plain": [
       "array([1021., 1169.,  139., 1042.,  116.,  749.,  465.,  541.,   54.,\n",
       "        370.,  354.,  394.,  294.,  396.,  592.,  421.,  375.,  463.,\n",
       "         21.,  184.,  547.,   11.,  514.,  282.,  382.,  234.,  264.,\n",
       "        287.,  335.,  195.,  419.,  378.,  408.,  472.,   18.,   34.,\n",
       "         29.,  219.,  241.,  381.,   57.,   13.,   26.,  238.,  196.,\n",
       "        165.,  175.,  206.,  180.,  349.])"
      ]
     },
     "execution_count": 39,
     "metadata": {},
     "output_type": "execute_result"
    }
   ],
   "source": [
    "pd.unique(financial_services[\"number_of_headquarters\"])[:50]"
   ]
  },
  {
   "cell_type": "code",
   "execution_count": 40,
   "id": "eea943c9",
   "metadata": {},
   "outputs": [
    {
     "data": {
      "text/plain": [
       "array([ 28.,  31.,  29., 111.,  15.,  19.,  20.,   4.,  18.,  22.,   6.,\n",
       "        35.,  21.,   5.,  27.,  74., 170.,  73.,  24.,  11., 216., 135.,\n",
       "        44.,  nan, 172., 152.,  92.,  53.,  13.,  66.,  26., 165.,  38.,\n",
       "        36.,  47., 230.,  16.,  65., 332.,  58.,  14.,   9.,  17., 105.,\n",
       "       210., 114.,  10.,  34.,   7.,  25.,  32., 133.,   8.,  12., 175.,\n",
       "       174.,  23., 166.,  68., 128.,  91., 116.,  76.,  63., 106., 132.,\n",
       "        64., 102.,  69., 103., 157.,  75., 118., 151., 104.,  56.,  33.,\n",
       "        45.,   3.,  88.,  72.,  96.,  81.,  41.,  93.,  48.,  97.,  79.,\n",
       "        85.,  42.,  30., 115.,  87.,  37.,  40., 108.,  84.,  90.,  67.,\n",
       "        50., 150.,  46.,  59.,  43., 162., 171., 131.,  54., 159.,  60.,\n",
       "        55.,  39., 147.,  51., 178., 122.,  98., 295.,  52., 113.,  71.,\n",
       "       169., 187.,  95.,  70.,  57., 101.,  89., 130.,  62.,  78.,   2.,\n",
       "        83., 194.,  49., 119.,   1., 136., 100.,  61., 124., 117., 168.,\n",
       "       125.,  80., 120., 121., 167., 155., 144.,  82., 109.,  99., 134.,\n",
       "       239.])"
      ]
     },
     "execution_count": 40,
     "metadata": {},
     "output_type": "execute_result"
    }
   ],
   "source": [
    "pd.unique(financial_services[\"company_age_in_years\"])"
   ]
  },
  {
   "cell_type": "code",
   "execution_count": 41,
   "id": "dc293ecd",
   "metadata": {},
   "outputs": [
    {
     "data": {
      "text/plain": [
       "array([False, True, nan], dtype=object)"
      ]
     },
     "execution_count": 41,
     "metadata": {},
     "output_type": "execute_result"
    }
   ],
   "source": [
    "pd.unique(financial_services[\"Global\"])"
   ]
  },
  {
   "cell_type": "code",
   "execution_count": 42,
   "id": "760bd2de",
   "metadata": {},
   "outputs": [
    {
     "data": {
      "text/plain": [
       "name                          object\n",
       "rating                       float64\n",
       "reviews                       object\n",
       "company_type                  object\n",
       "Head_Quarters                 object\n",
       "Company_Age                   object\n",
       "No_of_Employee                object\n",
       "rating_is_missing               bool\n",
       "company_type_is_missing         bool\n",
       "Head_Quarters_is_missing        bool\n",
       "Company_Age_is_missing          bool\n",
       "No_of_Employee_is_missing       bool\n",
       "reviews_in_no                float64\n",
       "number_of_headquarters       float64\n",
       "company_age_in_years         float64\n",
       "Global                        object\n",
       "dtype: object"
      ]
     },
     "execution_count": 42,
     "metadata": {},
     "output_type": "execute_result"
    }
   ],
   "source": [
    "financial_services.dtypes"
   ]
  },
  {
   "cell_type": "code",
   "execution_count": 43,
   "id": "3a5b3b92",
   "metadata": {},
   "outputs": [
    {
     "data": {
      "text/plain": [
       "name                            0\n",
       "rating                         20\n",
       "reviews                         0\n",
       "company_type                 5284\n",
       "Head_Quarters                1300\n",
       "Company_Age                  5027\n",
       "No_of_Employee               3769\n",
       "rating_is_missing               0\n",
       "company_type_is_missing         0\n",
       "Head_Quarters_is_missing        0\n",
       "Company_Age_is_missing          0\n",
       "No_of_Employee_is_missing       0\n",
       "reviews_in_no                   0\n",
       "number_of_headquarters       1300\n",
       "company_age_in_years         5027\n",
       "Global                       3769\n",
       "dtype: int64"
      ]
     },
     "execution_count": 43,
     "metadata": {},
     "output_type": "execute_result"
    }
   ],
   "source": [
    "financial_services.isna().sum()"
   ]
  },
  {
   "cell_type": "code",
   "execution_count": 44,
   "id": "d8ac81e2",
   "metadata": {},
   "outputs": [
    {
     "data": {
      "text/html": [
       "<div>\n",
       "<style scoped>\n",
       "    .dataframe tbody tr th:only-of-type {\n",
       "        vertical-align: middle;\n",
       "    }\n",
       "\n",
       "    .dataframe tbody tr th {\n",
       "        vertical-align: top;\n",
       "    }\n",
       "\n",
       "    .dataframe thead th {\n",
       "        text-align: right;\n",
       "    }\n",
       "</style>\n",
       "<table border=\"1\" class=\"dataframe\">\n",
       "  <thead>\n",
       "    <tr style=\"text-align: right;\">\n",
       "      <th></th>\n",
       "      <th>0</th>\n",
       "      <th>1</th>\n",
       "      <th>2</th>\n",
       "      <th>3</th>\n",
       "      <th>4</th>\n",
       "    </tr>\n",
       "  </thead>\n",
       "  <tbody>\n",
       "    <tr>\n",
       "      <th>name</th>\n",
       "      <td>ICICI Bank</td>\n",
       "      <td>HDFC Bank</td>\n",
       "      <td>HCL Technologies</td>\n",
       "      <td>Axis Bank</td>\n",
       "      <td>IBM</td>\n",
       "    </tr>\n",
       "    <tr>\n",
       "      <th>rating</th>\n",
       "      <td>4.0</td>\n",
       "      <td>4.0</td>\n",
       "      <td>3.9</td>\n",
       "      <td>3.9</td>\n",
       "      <td>4.2</td>\n",
       "    </tr>\n",
       "    <tr>\n",
       "      <th>reviews</th>\n",
       "      <td>(33.6k Reviews)</td>\n",
       "      <td>(37.9k Reviews)</td>\n",
       "      <td>(17.4k Reviews)</td>\n",
       "      <td>(18.3k Reviews)</td>\n",
       "      <td>(20.7k Reviews)</td>\n",
       "    </tr>\n",
       "    <tr>\n",
       "      <th>company_type</th>\n",
       "      <td>Public</td>\n",
       "      <td>Public</td>\n",
       "      <td>Public</td>\n",
       "      <td>Public</td>\n",
       "      <td>Public</td>\n",
       "    </tr>\n",
       "    <tr>\n",
       "      <th>Head_Quarters</th>\n",
       "      <td>Mumbai,Maharashtra + 1020 more</td>\n",
       "      <td>Mumbai,Maharashtra + 1168 more</td>\n",
       "      <td>Noida,Uttar Pradesh + 138 more</td>\n",
       "      <td>Mumbai,Maharashtra + 1041 more</td>\n",
       "      <td>Armonk,New York + 115 more</td>\n",
       "    </tr>\n",
       "    <tr>\n",
       "      <th>Company_Age</th>\n",
       "      <td>28 years old</td>\n",
       "      <td>28 years old</td>\n",
       "      <td>31 years old</td>\n",
       "      <td>29 years old</td>\n",
       "      <td>111 years old</td>\n",
       "    </tr>\n",
       "    <tr>\n",
       "      <th>No_of_Employee</th>\n",
       "      <td>1 Lakh+</td>\n",
       "      <td>1 Lakh+</td>\n",
       "      <td>1 Lakh+</td>\n",
       "      <td>1 Lakh+</td>\n",
       "      <td>1 Lakh+</td>\n",
       "    </tr>\n",
       "    <tr>\n",
       "      <th>rating_is_missing</th>\n",
       "      <td>False</td>\n",
       "      <td>False</td>\n",
       "      <td>False</td>\n",
       "      <td>False</td>\n",
       "      <td>False</td>\n",
       "    </tr>\n",
       "    <tr>\n",
       "      <th>company_type_is_missing</th>\n",
       "      <td>False</td>\n",
       "      <td>False</td>\n",
       "      <td>False</td>\n",
       "      <td>False</td>\n",
       "      <td>False</td>\n",
       "    </tr>\n",
       "    <tr>\n",
       "      <th>Head_Quarters_is_missing</th>\n",
       "      <td>False</td>\n",
       "      <td>False</td>\n",
       "      <td>False</td>\n",
       "      <td>False</td>\n",
       "      <td>False</td>\n",
       "    </tr>\n",
       "    <tr>\n",
       "      <th>Company_Age_is_missing</th>\n",
       "      <td>False</td>\n",
       "      <td>False</td>\n",
       "      <td>False</td>\n",
       "      <td>False</td>\n",
       "      <td>False</td>\n",
       "    </tr>\n",
       "    <tr>\n",
       "      <th>No_of_Employee_is_missing</th>\n",
       "      <td>False</td>\n",
       "      <td>False</td>\n",
       "      <td>False</td>\n",
       "      <td>False</td>\n",
       "      <td>False</td>\n",
       "    </tr>\n",
       "    <tr>\n",
       "      <th>reviews_in_no</th>\n",
       "      <td>33600.0</td>\n",
       "      <td>37900.0</td>\n",
       "      <td>17400.0</td>\n",
       "      <td>18300.0</td>\n",
       "      <td>20700.0</td>\n",
       "    </tr>\n",
       "    <tr>\n",
       "      <th>number_of_headquarters</th>\n",
       "      <td>1021.0</td>\n",
       "      <td>1169.0</td>\n",
       "      <td>139.0</td>\n",
       "      <td>1042.0</td>\n",
       "      <td>116.0</td>\n",
       "    </tr>\n",
       "    <tr>\n",
       "      <th>company_age_in_years</th>\n",
       "      <td>28.0</td>\n",
       "      <td>28.0</td>\n",
       "      <td>31.0</td>\n",
       "      <td>29.0</td>\n",
       "      <td>111.0</td>\n",
       "    </tr>\n",
       "    <tr>\n",
       "      <th>Global</th>\n",
       "      <td>False</td>\n",
       "      <td>False</td>\n",
       "      <td>False</td>\n",
       "      <td>False</td>\n",
       "      <td>False</td>\n",
       "    </tr>\n",
       "  </tbody>\n",
       "</table>\n",
       "</div>"
      ],
      "text/plain": [
       "                                                        0  \\\n",
       "name                                           ICICI Bank   \n",
       "rating                                                4.0   \n",
       "reviews                                   (33.6k Reviews)   \n",
       "company_type                                       Public   \n",
       "Head_Quarters              Mumbai,Maharashtra + 1020 more   \n",
       "Company_Age                                  28 years old   \n",
       "No_of_Employee                                    1 Lakh+   \n",
       "rating_is_missing                                   False   \n",
       "company_type_is_missing                             False   \n",
       "Head_Quarters_is_missing                            False   \n",
       "Company_Age_is_missing                              False   \n",
       "No_of_Employee_is_missing                           False   \n",
       "reviews_in_no                                     33600.0   \n",
       "number_of_headquarters                             1021.0   \n",
       "company_age_in_years                                 28.0   \n",
       "Global                                              False   \n",
       "\n",
       "                                                        1  \\\n",
       "name                                            HDFC Bank   \n",
       "rating                                                4.0   \n",
       "reviews                                   (37.9k Reviews)   \n",
       "company_type                                       Public   \n",
       "Head_Quarters              Mumbai,Maharashtra + 1168 more   \n",
       "Company_Age                                  28 years old   \n",
       "No_of_Employee                                    1 Lakh+   \n",
       "rating_is_missing                                   False   \n",
       "company_type_is_missing                             False   \n",
       "Head_Quarters_is_missing                            False   \n",
       "Company_Age_is_missing                              False   \n",
       "No_of_Employee_is_missing                           False   \n",
       "reviews_in_no                                     37900.0   \n",
       "number_of_headquarters                             1169.0   \n",
       "company_age_in_years                                 28.0   \n",
       "Global                                              False   \n",
       "\n",
       "                                                        2  \\\n",
       "name                                     HCL Technologies   \n",
       "rating                                                3.9   \n",
       "reviews                                   (17.4k Reviews)   \n",
       "company_type                                       Public   \n",
       "Head_Quarters              Noida,Uttar Pradesh + 138 more   \n",
       "Company_Age                                  31 years old   \n",
       "No_of_Employee                                    1 Lakh+   \n",
       "rating_is_missing                                   False   \n",
       "company_type_is_missing                             False   \n",
       "Head_Quarters_is_missing                            False   \n",
       "Company_Age_is_missing                              False   \n",
       "No_of_Employee_is_missing                           False   \n",
       "reviews_in_no                                     17400.0   \n",
       "number_of_headquarters                              139.0   \n",
       "company_age_in_years                                 31.0   \n",
       "Global                                              False   \n",
       "\n",
       "                                                        3  \\\n",
       "name                                            Axis Bank   \n",
       "rating                                                3.9   \n",
       "reviews                                   (18.3k Reviews)   \n",
       "company_type                                       Public   \n",
       "Head_Quarters              Mumbai,Maharashtra + 1041 more   \n",
       "Company_Age                                  29 years old   \n",
       "No_of_Employee                                    1 Lakh+   \n",
       "rating_is_missing                                   False   \n",
       "company_type_is_missing                             False   \n",
       "Head_Quarters_is_missing                            False   \n",
       "Company_Age_is_missing                              False   \n",
       "No_of_Employee_is_missing                           False   \n",
       "reviews_in_no                                     18300.0   \n",
       "number_of_headquarters                             1042.0   \n",
       "company_age_in_years                                 29.0   \n",
       "Global                                              False   \n",
       "\n",
       "                                                    4  \n",
       "name                                              IBM  \n",
       "rating                                            4.2  \n",
       "reviews                               (20.7k Reviews)  \n",
       "company_type                                   Public  \n",
       "Head_Quarters              Armonk,New York + 115 more  \n",
       "Company_Age                             111 years old  \n",
       "No_of_Employee                                1 Lakh+  \n",
       "rating_is_missing                               False  \n",
       "company_type_is_missing                         False  \n",
       "Head_Quarters_is_missing                        False  \n",
       "Company_Age_is_missing                          False  \n",
       "No_of_Employee_is_missing                       False  \n",
       "reviews_in_no                                 20700.0  \n",
       "number_of_headquarters                          116.0  \n",
       "company_age_in_years                            111.0  \n",
       "Global                                          False  "
      ]
     },
     "execution_count": 44,
     "metadata": {},
     "output_type": "execute_result"
    }
   ],
   "source": [
    "financial_services.head().T"
   ]
  },
  {
   "cell_type": "markdown",
   "id": "0f1bec80",
   "metadata": {},
   "source": [
    "# After seeing the result we can conclude that, we have successfully cleaned the data."
   ]
  },
  {
   "cell_type": "markdown",
   "id": "32eb4c8f",
   "metadata": {},
   "source": [
    "# Now we are going to fill the missing values in our dataframe"
   ]
  },
  {
   "cell_type": "code",
   "execution_count": 45,
   "id": "3b2565f4",
   "metadata": {},
   "outputs": [],
   "source": [
    "financial_services[\"Company_Age\"]=financial_services[\"Company_Age\"].ffill(axis=0)\n",
    "financial_services[\"company_age_in_years\"]=financial_services[\"company_age_in_years\"].ffill(axis=0)\n",
    "financial_services[\"number_of_headquarters\"]=financial_services[\"number_of_headquarters\"].ffill(axis=0)\n",
    "financial_services[\"Head_Quarters\"]=financial_services[\"Head_Quarters\"].ffill(axis=0)\n",
    "financial_services[\"No_of_Employee\"]=financial_services[\"No_of_Employee\"].ffill(axis=0)\n",
    "financial_services[\"Global\"]=financial_services[\"Global\"].ffill(axis=0)\n",
    "financial_services[\"company_type\"].fillna(\"Unknown\",inplace=True)"
   ]
  },
  {
   "cell_type": "code",
   "execution_count": 46,
   "id": "cdba816a",
   "metadata": {},
   "outputs": [],
   "source": [
    "financial_services[\"company_type\"]=financial_services[\"company_type\"].astype(\"category\")\n",
    "financial_services[\"No_of_Employee\"]=financial_services[\"No_of_Employee\"].astype(\"category\")"
   ]
  },
  {
   "cell_type": "code",
   "execution_count": 47,
   "id": "364eb04e",
   "metadata": {},
   "outputs": [],
   "source": [
    "financial_services=financial_services.dropna()"
   ]
  },
  {
   "cell_type": "code",
   "execution_count": 48,
   "id": "bdaa55c1",
   "metadata": {},
   "outputs": [
    {
     "data": {
      "text/html": [
       "<div>\n",
       "<style scoped>\n",
       "    .dataframe tbody tr th:only-of-type {\n",
       "        vertical-align: middle;\n",
       "    }\n",
       "\n",
       "    .dataframe tbody tr th {\n",
       "        vertical-align: top;\n",
       "    }\n",
       "\n",
       "    .dataframe thead th {\n",
       "        text-align: right;\n",
       "    }\n",
       "</style>\n",
       "<table border=\"1\" class=\"dataframe\">\n",
       "  <thead>\n",
       "    <tr style=\"text-align: right;\">\n",
       "      <th></th>\n",
       "      <th>0</th>\n",
       "      <th>1</th>\n",
       "      <th>2</th>\n",
       "      <th>3</th>\n",
       "      <th>4</th>\n",
       "    </tr>\n",
       "  </thead>\n",
       "  <tbody>\n",
       "    <tr>\n",
       "      <th>name</th>\n",
       "      <td>ICICI Bank</td>\n",
       "      <td>HDFC Bank</td>\n",
       "      <td>HCL Technologies</td>\n",
       "      <td>Axis Bank</td>\n",
       "      <td>IBM</td>\n",
       "    </tr>\n",
       "    <tr>\n",
       "      <th>rating</th>\n",
       "      <td>4.0</td>\n",
       "      <td>4.0</td>\n",
       "      <td>3.9</td>\n",
       "      <td>3.9</td>\n",
       "      <td>4.2</td>\n",
       "    </tr>\n",
       "    <tr>\n",
       "      <th>reviews</th>\n",
       "      <td>(33.6k Reviews)</td>\n",
       "      <td>(37.9k Reviews)</td>\n",
       "      <td>(17.4k Reviews)</td>\n",
       "      <td>(18.3k Reviews)</td>\n",
       "      <td>(20.7k Reviews)</td>\n",
       "    </tr>\n",
       "    <tr>\n",
       "      <th>company_type</th>\n",
       "      <td>Public</td>\n",
       "      <td>Public</td>\n",
       "      <td>Public</td>\n",
       "      <td>Public</td>\n",
       "      <td>Public</td>\n",
       "    </tr>\n",
       "    <tr>\n",
       "      <th>Head_Quarters</th>\n",
       "      <td>Mumbai,Maharashtra + 1020 more</td>\n",
       "      <td>Mumbai,Maharashtra + 1168 more</td>\n",
       "      <td>Noida,Uttar Pradesh + 138 more</td>\n",
       "      <td>Mumbai,Maharashtra + 1041 more</td>\n",
       "      <td>Armonk,New York + 115 more</td>\n",
       "    </tr>\n",
       "    <tr>\n",
       "      <th>Company_Age</th>\n",
       "      <td>28 years old</td>\n",
       "      <td>28 years old</td>\n",
       "      <td>31 years old</td>\n",
       "      <td>29 years old</td>\n",
       "      <td>111 years old</td>\n",
       "    </tr>\n",
       "    <tr>\n",
       "      <th>No_of_Employee</th>\n",
       "      <td>1 Lakh+</td>\n",
       "      <td>1 Lakh+</td>\n",
       "      <td>1 Lakh+</td>\n",
       "      <td>1 Lakh+</td>\n",
       "      <td>1 Lakh+</td>\n",
       "    </tr>\n",
       "    <tr>\n",
       "      <th>rating_is_missing</th>\n",
       "      <td>False</td>\n",
       "      <td>False</td>\n",
       "      <td>False</td>\n",
       "      <td>False</td>\n",
       "      <td>False</td>\n",
       "    </tr>\n",
       "    <tr>\n",
       "      <th>company_type_is_missing</th>\n",
       "      <td>False</td>\n",
       "      <td>False</td>\n",
       "      <td>False</td>\n",
       "      <td>False</td>\n",
       "      <td>False</td>\n",
       "    </tr>\n",
       "    <tr>\n",
       "      <th>Head_Quarters_is_missing</th>\n",
       "      <td>False</td>\n",
       "      <td>False</td>\n",
       "      <td>False</td>\n",
       "      <td>False</td>\n",
       "      <td>False</td>\n",
       "    </tr>\n",
       "    <tr>\n",
       "      <th>Company_Age_is_missing</th>\n",
       "      <td>False</td>\n",
       "      <td>False</td>\n",
       "      <td>False</td>\n",
       "      <td>False</td>\n",
       "      <td>False</td>\n",
       "    </tr>\n",
       "    <tr>\n",
       "      <th>No_of_Employee_is_missing</th>\n",
       "      <td>False</td>\n",
       "      <td>False</td>\n",
       "      <td>False</td>\n",
       "      <td>False</td>\n",
       "      <td>False</td>\n",
       "    </tr>\n",
       "    <tr>\n",
       "      <th>reviews_in_no</th>\n",
       "      <td>33600.0</td>\n",
       "      <td>37900.0</td>\n",
       "      <td>17400.0</td>\n",
       "      <td>18300.0</td>\n",
       "      <td>20700.0</td>\n",
       "    </tr>\n",
       "    <tr>\n",
       "      <th>number_of_headquarters</th>\n",
       "      <td>1021.0</td>\n",
       "      <td>1169.0</td>\n",
       "      <td>139.0</td>\n",
       "      <td>1042.0</td>\n",
       "      <td>116.0</td>\n",
       "    </tr>\n",
       "    <tr>\n",
       "      <th>company_age_in_years</th>\n",
       "      <td>28.0</td>\n",
       "      <td>28.0</td>\n",
       "      <td>31.0</td>\n",
       "      <td>29.0</td>\n",
       "      <td>111.0</td>\n",
       "    </tr>\n",
       "    <tr>\n",
       "      <th>Global</th>\n",
       "      <td>False</td>\n",
       "      <td>False</td>\n",
       "      <td>False</td>\n",
       "      <td>False</td>\n",
       "      <td>False</td>\n",
       "    </tr>\n",
       "  </tbody>\n",
       "</table>\n",
       "</div>"
      ],
      "text/plain": [
       "                                                        0  \\\n",
       "name                                           ICICI Bank   \n",
       "rating                                                4.0   \n",
       "reviews                                   (33.6k Reviews)   \n",
       "company_type                                       Public   \n",
       "Head_Quarters              Mumbai,Maharashtra + 1020 more   \n",
       "Company_Age                                  28 years old   \n",
       "No_of_Employee                                    1 Lakh+   \n",
       "rating_is_missing                                   False   \n",
       "company_type_is_missing                             False   \n",
       "Head_Quarters_is_missing                            False   \n",
       "Company_Age_is_missing                              False   \n",
       "No_of_Employee_is_missing                           False   \n",
       "reviews_in_no                                     33600.0   \n",
       "number_of_headquarters                             1021.0   \n",
       "company_age_in_years                                 28.0   \n",
       "Global                                              False   \n",
       "\n",
       "                                                        1  \\\n",
       "name                                            HDFC Bank   \n",
       "rating                                                4.0   \n",
       "reviews                                   (37.9k Reviews)   \n",
       "company_type                                       Public   \n",
       "Head_Quarters              Mumbai,Maharashtra + 1168 more   \n",
       "Company_Age                                  28 years old   \n",
       "No_of_Employee                                    1 Lakh+   \n",
       "rating_is_missing                                   False   \n",
       "company_type_is_missing                             False   \n",
       "Head_Quarters_is_missing                            False   \n",
       "Company_Age_is_missing                              False   \n",
       "No_of_Employee_is_missing                           False   \n",
       "reviews_in_no                                     37900.0   \n",
       "number_of_headquarters                             1169.0   \n",
       "company_age_in_years                                 28.0   \n",
       "Global                                              False   \n",
       "\n",
       "                                                        2  \\\n",
       "name                                     HCL Technologies   \n",
       "rating                                                3.9   \n",
       "reviews                                   (17.4k Reviews)   \n",
       "company_type                                       Public   \n",
       "Head_Quarters              Noida,Uttar Pradesh + 138 more   \n",
       "Company_Age                                  31 years old   \n",
       "No_of_Employee                                    1 Lakh+   \n",
       "rating_is_missing                                   False   \n",
       "company_type_is_missing                             False   \n",
       "Head_Quarters_is_missing                            False   \n",
       "Company_Age_is_missing                              False   \n",
       "No_of_Employee_is_missing                           False   \n",
       "reviews_in_no                                     17400.0   \n",
       "number_of_headquarters                              139.0   \n",
       "company_age_in_years                                 31.0   \n",
       "Global                                              False   \n",
       "\n",
       "                                                        3  \\\n",
       "name                                            Axis Bank   \n",
       "rating                                                3.9   \n",
       "reviews                                   (18.3k Reviews)   \n",
       "company_type                                       Public   \n",
       "Head_Quarters              Mumbai,Maharashtra + 1041 more   \n",
       "Company_Age                                  29 years old   \n",
       "No_of_Employee                                    1 Lakh+   \n",
       "rating_is_missing                                   False   \n",
       "company_type_is_missing                             False   \n",
       "Head_Quarters_is_missing                            False   \n",
       "Company_Age_is_missing                              False   \n",
       "No_of_Employee_is_missing                           False   \n",
       "reviews_in_no                                     18300.0   \n",
       "number_of_headquarters                             1042.0   \n",
       "company_age_in_years                                 29.0   \n",
       "Global                                              False   \n",
       "\n",
       "                                                    4  \n",
       "name                                              IBM  \n",
       "rating                                            4.2  \n",
       "reviews                               (20.7k Reviews)  \n",
       "company_type                                   Public  \n",
       "Head_Quarters              Armonk,New York + 115 more  \n",
       "Company_Age                             111 years old  \n",
       "No_of_Employee                                1 Lakh+  \n",
       "rating_is_missing                               False  \n",
       "company_type_is_missing                         False  \n",
       "Head_Quarters_is_missing                        False  \n",
       "Company_Age_is_missing                          False  \n",
       "No_of_Employee_is_missing                       False  \n",
       "reviews_in_no                                 20700.0  \n",
       "number_of_headquarters                          116.0  \n",
       "company_age_in_years                            111.0  \n",
       "Global                                          False  "
      ]
     },
     "execution_count": 48,
     "metadata": {},
     "output_type": "execute_result"
    }
   ],
   "source": [
    "financial_services.head().T"
   ]
  },
  {
   "cell_type": "code",
   "execution_count": 49,
   "id": "49ce54af",
   "metadata": {},
   "outputs": [
    {
     "data": {
      "text/plain": [
       "(8950, 16)"
      ]
     },
     "execution_count": 49,
     "metadata": {},
     "output_type": "execute_result"
    }
   ],
   "source": [
    "financial_services.shape"
   ]
  },
  {
   "cell_type": "code",
   "execution_count": 50,
   "id": "301f62e2",
   "metadata": {},
   "outputs": [
    {
     "data": {
      "text/plain": [
       "name                           object\n",
       "rating                        float64\n",
       "reviews                        object\n",
       "company_type                 category\n",
       "Head_Quarters                  object\n",
       "Company_Age                    object\n",
       "No_of_Employee               category\n",
       "rating_is_missing                bool\n",
       "company_type_is_missing          bool\n",
       "Head_Quarters_is_missing         bool\n",
       "Company_Age_is_missing           bool\n",
       "No_of_Employee_is_missing        bool\n",
       "reviews_in_no                 float64\n",
       "number_of_headquarters        float64\n",
       "company_age_in_years          float64\n",
       "Global                           bool\n",
       "dtype: object"
      ]
     },
     "execution_count": 50,
     "metadata": {},
     "output_type": "execute_result"
    }
   ],
   "source": [
    "financial_services.dtypes"
   ]
  },
  {
   "cell_type": "code",
   "execution_count": 51,
   "id": "3dd96574",
   "metadata": {},
   "outputs": [
    {
     "data": {
      "text/plain": [
       "name                         0\n",
       "rating                       0\n",
       "reviews                      0\n",
       "company_type                 0\n",
       "Head_Quarters                0\n",
       "Company_Age                  0\n",
       "No_of_Employee               0\n",
       "rating_is_missing            0\n",
       "company_type_is_missing      0\n",
       "Head_Quarters_is_missing     0\n",
       "Company_Age_is_missing       0\n",
       "No_of_Employee_is_missing    0\n",
       "reviews_in_no                0\n",
       "number_of_headquarters       0\n",
       "company_age_in_years         0\n",
       "Global                       0\n",
       "dtype: int64"
      ]
     },
     "execution_count": 51,
     "metadata": {},
     "output_type": "execute_result"
    }
   ],
   "source": [
    "financial_services.isna().sum()"
   ]
  },
  {
   "cell_type": "markdown",
   "id": "008f9430",
   "metadata": {},
   "source": [
    "# Now finaly cleaned the data to draw some insights from it."
   ]
  },
  {
   "cell_type": "markdown",
   "id": "1acaf41f",
   "metadata": {},
   "source": [
    "# It times to save our data in our storage"
   ]
  },
  {
   "cell_type": "code",
   "execution_count": 52,
   "id": "33c3e97b",
   "metadata": {},
   "outputs": [],
   "source": [
    "financial_services.to_csv(\"financial_services_cleaned.csv\")"
   ]
  }
 ],
 "metadata": {
  "kernelspec": {
   "display_name": "Python 3 (ipykernel)",
   "language": "python",
   "name": "python3"
  },
  "language_info": {
   "codemirror_mode": {
    "name": "ipython",
    "version": 3
   },
   "file_extension": ".py",
   "mimetype": "text/x-python",
   "name": "python",
   "nbconvert_exporter": "python",
   "pygments_lexer": "ipython3",
   "version": "3.11.0"
  }
 },
 "nbformat": 4,
 "nbformat_minor": 5
}
